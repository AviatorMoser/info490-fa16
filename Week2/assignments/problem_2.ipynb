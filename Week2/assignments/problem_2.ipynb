{
 "cells": [
  {
   "cell_type": "markdown",
   "metadata": {
    "deletable": false,
    "nbgrader": {
     "checksum": "ba26040362eee3923d8be3e0730ce7c7",
     "grade": false,
     "grade_id": "intro",
     "locked": true,
     "solution": false
    }
   },
   "source": [
    "# Week 2 Assignment\n",
    "## Problem 2\n",
    "\n",
    "The purpose of this problem is the following:\n",
    "- Run an IPython notebook\n",
    "- Understand how assignments work\n",
    "- Understand assignment statements\n",
    "- Understand how to assign values to variables\n",
    "\n",
    "Before you turn this problem in, make sure everything runs as expected. First, restart the kernel (in the menubar, select `Kernel` → `Restart`) and then run all cells (in the menubar, select `Cell` → `Run All`).\n",
    "\n",
    "Make sure to fill in any place that says `YOUR CODE HERE`.\n",
    "\n",
    "Do **not** write your answer in anywhere else other than where it says `YOUR CODE HERE`."
   ]
  },
  {
   "cell_type": "markdown",
   "metadata": {
    "deletable": false,
    "nbgrader": {
     "checksum": "cfb6426eaf05a15afa899f2583598d85",
     "grade": false,
     "grade_id": "info1",
     "locked": true,
     "solution": false
    }
   },
   "source": [
    "In the following code cell, assign a value of 365 to an integer variable named `the_integer`."
   ]
  },
  {
   "cell_type": "code",
   "execution_count": null,
   "metadata": {
    "collapsed": true,
    "deletable": false,
    "nbgrader": {
     "checksum": "05fcfe4e1b9e496a2211fcbbe19bf741",
     "grade": false,
     "grade_id": "int",
     "locked": false,
     "solution": true
    }
   },
   "outputs": [],
   "source": [
    "# YOUR CODE HERE"
   ]
  },
  {
   "cell_type": "markdown",
   "metadata": {
    "deletable": false,
    "nbgrader": {
     "checksum": "dcf97d76947718c06d14596ba2620449",
     "grade": false,
     "grade_id": "info2",
     "locked": true,
     "solution": false
    }
   },
   "source": [
    "In the following code cell, you will see two assert statements, and almost\n",
    "every assignment will have such tests. These are what are called unit tests.\n",
    "When you submit completed assignments, instructors will determine your assignment grades by using automated grading tools to perform unit testing on your code, so if you pass all the tests without an error, you get a perfect score.\n",
    "\n",
    "It should be obvious to you that these tests are valuable hints! Study them. Write each piece of code so that it doesn't produce any errors. Writing the tests first, and then writing the actual code is actually a perfectly valid approach (preferred by many) to programming. It's called test-driven development.\n",
    "\n",
    "So, remember to learn what assert means, and study nose if you want to get a good grade."
   ]
  },
  {
   "cell_type": "code",
   "execution_count": null,
   "metadata": {
    "collapsed": false,
    "deletable": false,
    "nbgrader": {
     "checksum": "73749e1cfa7d5a1770a3a4dff0ecfb1c",
     "grade": true,
     "grade_id": "int-test",
     "locked": true,
     "points": 5,
     "solution": false
    }
   },
   "outputs": [],
   "source": [
    "from nose.tools import assert_equal\n",
    "assert_equal(the_integer,365)\n",
    "assert_equal(type(the_integer), int)"
   ]
  },
  {
   "cell_type": "markdown",
   "metadata": {
    "deletable": false,
    "nbgrader": {
     "checksum": "892cc0835ef77346ac8dab28f73db6aa",
     "grade": false,
     "grade_id": "info3",
     "locked": true,
     "solution": false
    }
   },
   "source": [
    "In the following code cell, assign the value 1.6180339 to a floating point variable named `floating_bubbles`."
   ]
  },
  {
   "cell_type": "code",
   "execution_count": null,
   "metadata": {
    "collapsed": true,
    "deletable": false,
    "nbgrader": {
     "checksum": "46111bb983269f419190cc3b4056c7ad",
     "grade": false,
     "grade_id": "float",
     "locked": false,
     "solution": true
    }
   },
   "outputs": [],
   "source": [
    "# YOUR CODE HERE"
   ]
  },
  {
   "cell_type": "code",
   "execution_count": null,
   "metadata": {
    "collapsed": false,
    "deletable": false,
    "nbgrader": {
     "checksum": "4b6d49b6f8b356c773d04b7b24a8b1a4",
     "grade": true,
     "grade_id": "float-test",
     "locked": true,
     "points": 5,
     "solution": false
    }
   },
   "outputs": [],
   "source": [
    "assert_equal(floating_bubbles, 1.6180339)\n",
    "assert_equal(type(floating_bubbles), float)"
   ]
  },
  {
   "cell_type": "markdown",
   "metadata": {
    "deletable": false,
    "nbgrader": {
     "checksum": "1719b8b305e718072a26478418c8e378",
     "grade": false,
     "grade_id": "info4",
     "locked": true,
     "solution": false
    }
   },
   "source": [
    "Finally, you will need to assign the string 'Spamelot' to a string variable named `the_string`."
   ]
  },
  {
   "cell_type": "code",
   "execution_count": null,
   "metadata": {
    "collapsed": true,
    "deletable": false,
    "nbgrader": {
     "checksum": "8cf5a6ef976216e789f8e3d010875ae5",
     "grade": false,
     "grade_id": "string",
     "locked": false,
     "solution": true
    }
   },
   "outputs": [],
   "source": [
    "# YOUR CODE HERE"
   ]
  },
  {
   "cell_type": "code",
   "execution_count": null,
   "metadata": {
    "collapsed": false,
    "deletable": false,
    "nbgrader": {
     "checksum": "0b6ecd1bba737bdd655ac5c997b45dcc",
     "grade": true,
     "grade_id": "string-test",
     "locked": true,
     "points": 10,
     "solution": false
    }
   },
   "outputs": [],
   "source": [
    "assert_equal(the_string, 'Spamelot')\n",
    "assert_equal(type(the_string), str)"
   ]
  },
  {
   "cell_type": "markdown",
   "metadata": {},
   "source": [
    "Before you turn this in, please make sure that there are no error messages, otherwise you might lose some points on this assignment.  Good luck!"
   ]
  }
 ],
 "metadata": {
  "kernelspec": {
   "display_name": "Python 3",
   "language": "python",
   "name": "python3"
  },
  "language_info": {
   "codemirror_mode": {
    "name": "ipython",
    "version": 3
   },
   "file_extension": ".py",
   "mimetype": "text/x-python",
   "name": "python",
   "nbconvert_exporter": "python",
   "pygments_lexer": "ipython3",
   "version": "3.5.2"
  }
 },
 "nbformat": 4,
 "nbformat_minor": 1
}
