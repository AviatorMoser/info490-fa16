{
 "cells": [
  {
   "cell_type": "markdown",
   "metadata": {},
   "source": [
    "<DIV ALIGN=CENTER>\n",
    "\n",
    "# Introduction to Pandas\n",
    "## Professor Robert J. Brunner\n",
    "  \n",
    "</DIV>  \n",
    "-----\n",
    "-----"
   ]
  },
  {
   "cell_type": "markdown",
   "metadata": {},
   "source": [
    "## Introduction\n",
    "\n",
    "One of the early criticisms of many in the data science arena of the\n",
    "Python language was the lack of useful data structures for performing\n",
    "data analysis tasks. This stemmed in part from comparisons between the R\n",
    "language and Python, since R has a built-in _DataFrame_ object that\n",
    "greatly simplified many data analysis tasks. This deficiency was\n",
    "addressed in 2008 by Wes McKinney with the creation of [Pandas][1] (the\n",
    "name was originally an abbreviation of Panel datas). To quote the Pandas\n",
    "documentation:\n",
    "\n",
    ">Python has long been great for data munging and preparation, but less\n",
    ">so for data analysis and modeling. pandas helps fill this gap, enabling\n",
    ">you to carry out your entire data analysis workflow in Python without\n",
    ">having to switch to a more domain specific language like R.\n",
    "\n",
    "Pandas introduces several new data structures like the `Series`,\n",
    "`DataFrame`, and `Panel` that build on top of existing\n",
    "tools like `numpy` to speed-up data analysis tasks. Pandas also provides\n",
    "efficient mechanisms for moving data between in memory representations\n",
    "and different data formats including CSV and text files, JSON files, SQL\n",
    "databases, HDF5 format files, and even Excel spreadsheets. Pandas also\n",
    "provides support for dealing with missing or incomplete data and\n",
    "aggregating or grouping data.\n",
    "\n",
    "-----\n",
    "[1]: http://pandas.pydata.org"
   ]
  },
  {
   "cell_type": "markdown",
   "metadata": {},
   "source": [
    "## Brief introduction to Pandas\n",
    "\n",
    "Before using Pandas, we must first import the Pandas library:\n",
    "\n",
    "    import pandas as pd\n",
    "\n",
    "Second, we simply create and use the appropriate Pandas data structure.\n",
    "The two most important data structures for typical data science tasks\n",
    "are the `Series` and the `DataFrame`:\n",
    "\n",
    "1. `Series`: a one-dimensional labeled array that can hold any data type\n",
    "such as integers, floating-point numbers, strings, or Python objects. A\n",
    "`Series` has both a data column and a label column called the _index_.\n",
    "\n",
    "2. `DataFrame`: a two-dimensional labeled data structure with columns\n",
    "that can be hold different data types, similar to a spreadsheet or\n",
    "relational database table. \n",
    "\n",
    "Pandas also provides a date/time data structure sometimes refereed to as\n",
    "a `TimeSeries` and a three-dimensional data structure known as a\n",
    "`Panel`. \n",
    "\n",
    "### `Series`\n",
    "\n",
    "A `Series` is useful to hold data that should be accesible by using a\n",
    "specific label. You create a `Series` by passing in an appropriate data\n",
    "set along with an optional index:\n",
    "\n",
    "    values = pd.Series(data, index=idx)\n",
    "\n",
    "The index varies depending on the type of data passed in to create the\n",
    "`Series:\n",
    "\n",
    "- if data is a NumPy array, the index should be the same length as the\n",
    "data array. If no index is provided one will be created that enables\n",
    "integer access that mirrors a traditional NumPy array (i.e., zero\n",
    "indexed). \n",
    "\n",
    "- if data is a Python dictionary, `idx` can contain specific labels to\n",
    "indicate which values in the dictionary should be used to create the\n",
    "`Series`. If no index is specified, an index is created from the sorted\n",
    "dictionary keys. \n",
    "\n",
    "- if data is a scalar value, an inde must be supplied. In this case, the\n",
    "scalar value will be repeated to ensure that each label in the index has\n",
    "a value in the `Series`.\n",
    "\n",
    "These different options are demonstrated in the following code cells.\n",
    "\n",
    "-----\n",
    "[df]: http://pandas.pydata.org/pandas-docs/stable/dsintro.html#dataframe"
   ]
  },
  {
   "cell_type": "code",
   "execution_count": 1,
   "metadata": {
    "collapsed": false
   },
   "outputs": [
    {
     "name": "stdout",
     "output_type": "stream",
     "text": [
      "q    0.246253\n",
      "w    0.762229\n",
      "e    0.994626\n",
      "r    0.406908\n",
      "t    0.392624\n",
      "y    0.287569\n",
      "dtype: float64\n"
     ]
    }
   ],
   "source": [
    "import pandas as pd\n",
    "import numpy as np\n",
    "\n",
    "# We label the random values\n",
    "s1 = pd.Series(np.random.rand(6), index=['q', 'w', 'e', 'r', 't', 'y'])\n",
    "\n",
    "print(s1)"
   ]
  },
  {
   "cell_type": "code",
   "execution_count": 2,
   "metadata": {
    "collapsed": false
   },
   "outputs": [
    {
     "name": "stdout",
     "output_type": "stream",
     "text": [
      "q    11.0\n",
      "w    21.0\n",
      "r    41.0\n",
      "y     NaN\n",
      "dtype: float64\n"
     ]
    }
   ],
   "source": [
    "d = {'q': 11, 'w': 21, 'e': 31, 'r': 41}\n",
    "\n",
    "# We pick out the q, w, and r keys, but have an undefined y key.\n",
    "s2 = pd.Series(d, index = ['q', 'w', 'r', 'y'])\n",
    "\n",
    "print(s2)"
   ]
  },
  {
   "cell_type": "code",
   "execution_count": 3,
   "metadata": {
    "collapsed": false
   },
   "outputs": [
    {
     "name": "stdout",
     "output_type": "stream",
     "text": [
      "q    42\n",
      "w    42\n",
      "e    42\n",
      "r    42\n",
      "t    42\n",
      "y    42\n",
      "dtype: int64\n",
      "\n",
      "The \"e\" value is  42\n"
     ]
    }
   ],
   "source": [
    "# We create a Series from an integer constant with explicit labels\n",
    "s3 = pd.Series(42, index = ['q', 'w', 'e', 'r', 't', 'y'])\n",
    "\n",
    "print(s3)\n",
    "\n",
    "print('\\nThe \"e\" value is ', s3['e'])"
   ]
  },
  {
   "cell_type": "code",
   "execution_count": 4,
   "metadata": {
    "collapsed": false
   },
   "outputs": [
    {
     "name": "stdout",
     "output_type": "stream",
     "text": [
      "q    0.246253\n",
      "w    0.762229\n",
      "e    0.994626\n",
      "r    0.406908\n",
      "dtype: float64\n",
      "\n",
      "Sum Series:\n",
      "q    42.246253\n",
      "w    42.762229\n",
      "e    42.994626\n",
      "r    42.406908\n",
      "t    42.392624\n",
      "y    42.287569\n",
      "dtype: float64\n",
      "\n",
      "Series operations:\n",
      "q     53.8\n",
      "w    103.8\n",
      "r    203.8\n",
      "y      NaN\n",
      "dtype: float64\n"
     ]
    }
   ],
   "source": [
    "# We can slice like NumPy arrays\n",
    "\n",
    "print(s1[:-2])\n",
    "\n",
    "# We can also perform vectorized operations\n",
    "print('\\nSum Series:')\n",
    "print(s1 + s3)\n",
    "print('\\nSeries operations:')\n",
    "print(s2 * 5 - 1.2)"
   ]
  },
  {
   "cell_type": "markdown",
   "metadata": {},
   "source": [
    "-----\n",
    "\n",
    "### `DataFrame`\n",
    "\n",
    "The second major data structure that Pandas provdis is he `DataFrame`,\n",
    "which is a two-dimensional array, where each column is effectively a\n",
    "`Series` with a shared index. A DataFrame is a very powerful data\n",
    "structure and provides a nice mapping for a number of different data\n",
    "formats (and storage mechanisms). For example, you can easily read data\n",
    "from a CSV file, a fixed width format text file, a JSOPN file, an HTML\n",
    "file, and HDF file, and a relational database into a Pandas `DataFrame`.\n",
    "This is demonstrated in the next set of code cells, where we extract\n",
    "data from files we created in the [Introduction to Data\n",
    "Formats][df] Notebook.\n",
    "\n",
    "-----\n",
    "[df]: dataformats.ipynb"
   ]
  },
  {
   "cell_type": "code",
   "execution_count": 5,
   "metadata": {
    "collapsed": false
   },
   "outputs": [
    {
     "name": "stdout",
     "output_type": "stream",
     "text": [
      "                   airport              city state\n",
      "iata                                              \n",
      "00M               Thigpen        Bay Springs    MS\n",
      "00R   Livingston Municipal        Livingston    TX\n",
      "00V            Meadow Lake  Colorado Springs    CO\n",
      "01G           Perry-Warsaw             Perry    NY\n",
      "01J       Hilliard Airpark          Hilliard    FL\n"
     ]
    }
   ],
   "source": [
    "# Read data from CSV file, and display subset\n",
    "\n",
    "dfa = pd.read_csv('/home/data_scientist/data/data.csv', delimiter='|', index_col='iata')\n",
    "\n",
    "# We can grab the first five rows, and only extract the 'airport' column\n",
    "print(dfa[['airport', 'city', 'state']].head(5))"
   ]
  },
  {
   "cell_type": "code",
   "execution_count": 6,
   "metadata": {
    "collapsed": false
   },
   "outputs": [
    {
     "name": "stdout",
     "output_type": "stream",
     "text": [
      "        0                          1            2   3            5  \\\n",
      "3372  ZEF            Elkin Municipal        Elkin  NC  36.28002361   \n",
      "3373  ZER  Schuylkill Cty/Joe Zerbey   Pottsville  PA  40.70644889   \n",
      "3374  ZPH      Zephyrhills Municipal  Zephyrhills  FL  28.22806472   \n",
      "3375  ZUN                 Black Rock         Zuni  NM  35.08322694   \n",
      "3376  ZZV       Zanesville Municipal   Zanesville  OH  39.94445833   \n",
      "\n",
      "                 6  \n",
      "3372  -80.78606861  \n",
      "3373  -76.37314667  \n",
      "3374  -82.15591639  \n",
      "3375  -108.7917769  \n",
      "3376  -81.89210528  \n"
     ]
    }
   ],
   "source": [
    "# Read data from our JSON file\n",
    "dfb = pd.read_json('/home/data_scientist/data/data.json')\n",
    "\n",
    "# Grab the last five rows\n",
    "print(dfb[[0, 1, 2, 3, 5, 6]].tail(5))"
   ]
  },
  {
   "cell_type": "markdown",
   "metadata": {},
   "source": [
    "-----\n",
    "\n",
    "In the previous code cells, we read data first from a delimiter\n",
    "separated value file and second from a JSON file into a Pandas\n",
    "`DataFrame`. In each code cell, we display data contained in the new\n",
    "DataFrame, first by using the `head` method to display the first few\n",
    "rows, and second by using the `tail` method to display the last few\n",
    "lines. For the delimiter separated value file, we explicitly specified\n",
    "the delimiter, which is a vertical bar `|`, the default is to assume a\n",
    "comma as the delimiter. We also explicitly specify the `iata` column\n",
    "should be used as the index column, which is how we can refer to rows in\n",
    "the array. \n",
    "\n",
    "We also explicitly select columns for display in both code cells. In the\n",
    "first code cell, we explicitly name the columns, passing in a list of\n",
    "the names to the DataFrame. Alternatively, in the second code cell, we\n",
    "pass in a list of the column ids, which we must do since we did not\n",
    "create named columns when reading data from the JSON file. The list of\n",
    "integers can be used even if the columns of the array have been assigned\n",
    "names.\n",
    "\n",
    "Pandas includes a tremendous amount of functionality, especially for\n",
    "the `DataFrame`, to learn more, view the [detailed documentation][pdd].\n",
    "Several useful functions are demonstrated below, however, including\n",
    "information summaries, slicing, and column operations on DataFrames.\n",
    "\n",
    "-----\n",
    "\n",
    "[pdd]: http://pandas.pydata.org/pandas-docs/stable/dsintro.html#dataframe"
   ]
  },
  {
   "cell_type": "code",
   "execution_count": 7,
   "metadata": {
    "collapsed": false
   },
   "outputs": [
    {
     "data": {
      "text/plain": [
       "airport     object\n",
       "city        object\n",
       "state       object\n",
       "country     object\n",
       "lat        float64\n",
       "long       float64\n",
       "dtype: object"
      ]
     },
     "execution_count": 7,
     "metadata": {},
     "output_type": "execute_result"
    }
   ],
   "source": [
    "# Lets look at the datatypes of each column\n",
    "dfa.dtypes"
   ]
  },
  {
   "cell_type": "code",
   "execution_count": 8,
   "metadata": {
    "collapsed": false
   },
   "outputs": [
    {
     "data": {
      "text/html": [
       "<div>\n",
       "<table border=\"1\" class=\"dataframe\">\n",
       "  <thead>\n",
       "    <tr style=\"text-align: right;\">\n",
       "      <th></th>\n",
       "      <th>lat</th>\n",
       "      <th>long</th>\n",
       "    </tr>\n",
       "  </thead>\n",
       "  <tbody>\n",
       "    <tr>\n",
       "      <th>count</th>\n",
       "      <td>3376.000000</td>\n",
       "      <td>3376.000000</td>\n",
       "    </tr>\n",
       "    <tr>\n",
       "      <th>mean</th>\n",
       "      <td>40.036524</td>\n",
       "      <td>-98.621205</td>\n",
       "    </tr>\n",
       "    <tr>\n",
       "      <th>std</th>\n",
       "      <td>8.329559</td>\n",
       "      <td>22.869458</td>\n",
       "    </tr>\n",
       "    <tr>\n",
       "      <th>min</th>\n",
       "      <td>7.367222</td>\n",
       "      <td>-176.646031</td>\n",
       "    </tr>\n",
       "    <tr>\n",
       "      <th>25%</th>\n",
       "      <td>34.688427</td>\n",
       "      <td>-108.761121</td>\n",
       "    </tr>\n",
       "    <tr>\n",
       "      <th>50%</th>\n",
       "      <td>39.434449</td>\n",
       "      <td>-93.599425</td>\n",
       "    </tr>\n",
       "    <tr>\n",
       "      <th>75%</th>\n",
       "      <td>43.372612</td>\n",
       "      <td>-84.137519</td>\n",
       "    </tr>\n",
       "    <tr>\n",
       "      <th>max</th>\n",
       "      <td>71.285448</td>\n",
       "      <td>145.621384</td>\n",
       "    </tr>\n",
       "  </tbody>\n",
       "</table>\n",
       "</div>"
      ],
      "text/plain": [
       "               lat         long\n",
       "count  3376.000000  3376.000000\n",
       "mean     40.036524   -98.621205\n",
       "std       8.329559    22.869458\n",
       "min       7.367222  -176.646031\n",
       "25%      34.688427  -108.761121\n",
       "50%      39.434449   -93.599425\n",
       "75%      43.372612   -84.137519\n",
       "max      71.285448   145.621384"
      ]
     },
     "execution_count": 8,
     "metadata": {},
     "output_type": "execute_result"
    }
   ],
   "source": [
    "# We can get a summary of numerical information in the dataframe\n",
    "\n",
    "dfa.describe()"
   ]
  },
  {
   "cell_type": "code",
   "execution_count": 9,
   "metadata": {
    "collapsed": false
   },
   "outputs": [
    {
     "data": {
      "text/plain": [
       "0    object\n",
       "1    object\n",
       "2    object\n",
       "3    object\n",
       "4    object\n",
       "5    object\n",
       "6    object\n",
       "dtype: object"
      ]
     },
     "execution_count": 9,
     "metadata": {},
     "output_type": "execute_result"
    }
   ],
   "source": [
    "# Notice the JSON data did not automatically specify data types\n",
    "dfb.dtypes"
   ]
  },
  {
   "cell_type": "code",
   "execution_count": 10,
   "metadata": {
    "collapsed": false
   },
   "outputs": [
    {
     "data": {
      "text/html": [
       "<div>\n",
       "<table border=\"1\" class=\"dataframe\">\n",
       "  <thead>\n",
       "    <tr style=\"text-align: right;\">\n",
       "      <th></th>\n",
       "      <th>0</th>\n",
       "      <th>1</th>\n",
       "      <th>2</th>\n",
       "      <th>3</th>\n",
       "      <th>4</th>\n",
       "      <th>5</th>\n",
       "      <th>6</th>\n",
       "    </tr>\n",
       "  </thead>\n",
       "  <tbody>\n",
       "    <tr>\n",
       "      <th>count</th>\n",
       "      <td>3377</td>\n",
       "      <td>3377</td>\n",
       "      <td>3377</td>\n",
       "      <td>3377</td>\n",
       "      <td>3377</td>\n",
       "      <td>3377</td>\n",
       "      <td>3377</td>\n",
       "    </tr>\n",
       "    <tr>\n",
       "      <th>unique</th>\n",
       "      <td>3377</td>\n",
       "      <td>3246</td>\n",
       "      <td>2677</td>\n",
       "      <td>58</td>\n",
       "      <td>6</td>\n",
       "      <td>3376</td>\n",
       "      <td>3376</td>\n",
       "    </tr>\n",
       "    <tr>\n",
       "      <th>top</th>\n",
       "      <td>GED</td>\n",
       "      <td>Monroe County</td>\n",
       "      <td>NA</td>\n",
       "      <td>AK</td>\n",
       "      <td>USA</td>\n",
       "      <td>41.61033333</td>\n",
       "      <td>-88.91561611</td>\n",
       "    </tr>\n",
       "    <tr>\n",
       "      <th>freq</th>\n",
       "      <td>1</td>\n",
       "      <td>5</td>\n",
       "      <td>12</td>\n",
       "      <td>263</td>\n",
       "      <td>3372</td>\n",
       "      <td>2</td>\n",
       "      <td>2</td>\n",
       "    </tr>\n",
       "  </tbody>\n",
       "</table>\n",
       "</div>"
      ],
      "text/plain": [
       "           0              1     2     3     4            5             6\n",
       "count   3377           3377  3377  3377  3377         3377          3377\n",
       "unique  3377           3246  2677    58     6         3376          3376\n",
       "top      GED  Monroe County    NA    AK   USA  41.61033333  -88.91561611\n",
       "freq       1              5    12   263  3372            2             2"
      ]
     },
     "execution_count": 10,
     "metadata": {},
     "output_type": "execute_result"
    }
   ],
   "source": [
    "# This affects the output of the describe method, dfb has no numerical data types.\n",
    "\n",
    "dfb.describe()"
   ]
  },
  {
   "cell_type": "code",
   "execution_count": 11,
   "metadata": {
    "collapsed": false
   },
   "outputs": [
    {
     "name": "stdout",
     "output_type": "stream",
     "text": [
      "                 airport              city state country        lat  \\\n",
      "iata                                                                  \n",
      "00V          Meadow Lake  Colorado Springs    CO     USA  38.945749   \n",
      "11R    Brenham Municipal           Brenham    TX     USA  30.219000   \n",
      "12C   Rochelle Municipal          Rochelle    IL     USA  41.893001   \n",
      "\n",
      "            long  \n",
      "iata              \n",
      "00V  -104.569893  \n",
      "11R   -96.374278  \n",
      "12C   -89.078290  \n"
     ]
    }
   ],
   "source": [
    "# We can slice out rows using the indicated index for dfa\n",
    "\n",
    "print(dfa.loc[['00V', '11R', '12C']])"
   ]
  },
  {
   "cell_type": "code",
   "execution_count": 12,
   "metadata": {
    "collapsed": false
   },
   "outputs": [
    {
     "name": "stdout",
     "output_type": "stream",
     "text": [
      "       0                   1         2   3    4            5             6\n",
      "100  11J        Early County   Blakely  GA  USA  31.39698611  -84.89525694\n",
      "101  11R   Brenham Municipal   Brenham  TX  USA       30.219  -96.37427778\n",
      "102  12C  Rochelle Municipal  Rochelle  IL  USA  41.89300139     -89.07829\n",
      "103  12D     Tower Municipal     Tower  MN  USA  47.81833333  -92.29166667\n",
      "104  12J   Brewton Municipal   Brewton  AL  USA  31.05126306  -87.06796833\n"
     ]
    }
   ],
   "source": [
    "# We can slice out rows using the row index for dfb\n",
    "print(dfb[100:105])"
   ]
  },
  {
   "cell_type": "code",
   "execution_count": 13,
   "metadata": {
    "collapsed": false
   },
   "outputs": [
    {
     "name": "stdout",
     "output_type": "stream",
     "text": [
      "       airport      city state country        lat        long\n",
      "iata                                                         \n",
      "ADK       Adak      Adak    AK     USA  51.877964 -176.646031\n",
      "AKA       Atka      Atka    AK     USA  52.220348 -174.206350\n",
      "GAM    Gambell   Gambell    AK     USA  63.766766 -171.732824\n",
      "SNP   St. Paul  St. Paul    AK     USA  57.167333 -170.220444\n",
      "SVA   Savoonga  Savoonga    AK     USA  63.686394 -170.492636\n"
     ]
    }
   ],
   "source": [
    "# We can also select rows based on boolean tests on columns\n",
    "print(dfa[(dfa.lat > 48) & (dfa.long < -170)])"
   ]
  },
  {
   "cell_type": "markdown",
   "metadata": {},
   "source": [
    "-----\n",
    "\n",
    "We can also perform numerical operations on a `DataFrame`, just as was the\n",
    "case with NumPy arrays. To demonstrate this, we create a numerical\n",
    "DataFrame, apply different operations, and view the results.\n",
    "\n",
    "-----"
   ]
  },
  {
   "cell_type": "code",
   "execution_count": 14,
   "metadata": {
    "collapsed": false
   },
   "outputs": [
    {
     "name": "stdout",
     "output_type": "stream",
     "text": [
      "          0         1         2         3         4         5\n",
      "0 -0.580512 -0.278084 -1.355131  0.317228 -0.334556 -1.784478\n",
      "1 -0.584370  0.001573 -0.644482  1.712452  0.885817 -0.364777\n",
      "2  0.723145 -2.323708 -0.790218  1.748653 -0.935881 -0.521001\n",
      "3 -1.259935 -1.135500 -0.598911  0.308380  1.176639  1.487650\n",
      "4 -0.292156  0.578799 -1.891379 -0.541476  2.245845  1.134497\n"
     ]
    }
   ],
   "source": [
    "df = pd.DataFrame(np.random.randn(5, 6))\n",
    "\n",
    "print(df)"
   ]
  },
  {
   "cell_type": "code",
   "execution_count": 15,
   "metadata": {
    "collapsed": false
   },
   "outputs": [
    {
     "data": {
      "text/html": [
       "<div>\n",
       "<table border=\"1\" class=\"dataframe\">\n",
       "  <thead>\n",
       "    <tr style=\"text-align: right;\">\n",
       "      <th></th>\n",
       "      <th>0</th>\n",
       "      <th>1</th>\n",
       "      <th>2</th>\n",
       "      <th>3</th>\n",
       "      <th>4</th>\n",
       "      <th>5</th>\n",
       "    </tr>\n",
       "  </thead>\n",
       "  <tbody>\n",
       "    <tr>\n",
       "      <th>0</th>\n",
       "      <td>1.919488</td>\n",
       "      <td>2.221916</td>\n",
       "      <td>1.144869</td>\n",
       "      <td>2.817228</td>\n",
       "      <td>2.165444</td>\n",
       "      <td>0.715522</td>\n",
       "    </tr>\n",
       "    <tr>\n",
       "      <th>1</th>\n",
       "      <td>1.915630</td>\n",
       "      <td>2.501573</td>\n",
       "      <td>1.855518</td>\n",
       "      <td>4.212452</td>\n",
       "      <td>3.385817</td>\n",
       "      <td>2.135223</td>\n",
       "    </tr>\n",
       "    <tr>\n",
       "      <th>2</th>\n",
       "      <td>3.223145</td>\n",
       "      <td>0.176292</td>\n",
       "      <td>1.709782</td>\n",
       "      <td>4.248653</td>\n",
       "      <td>1.564119</td>\n",
       "      <td>1.978999</td>\n",
       "    </tr>\n",
       "    <tr>\n",
       "      <th>3</th>\n",
       "      <td>1.240065</td>\n",
       "      <td>1.364500</td>\n",
       "      <td>1.901089</td>\n",
       "      <td>2.808380</td>\n",
       "      <td>3.676639</td>\n",
       "      <td>3.987650</td>\n",
       "    </tr>\n",
       "    <tr>\n",
       "      <th>4</th>\n",
       "      <td>2.207844</td>\n",
       "      <td>3.078799</td>\n",
       "      <td>0.608621</td>\n",
       "      <td>1.958524</td>\n",
       "      <td>4.745845</td>\n",
       "      <td>3.634497</td>\n",
       "    </tr>\n",
       "  </tbody>\n",
       "</table>\n",
       "</div>"
      ],
      "text/plain": [
       "          0         1         2         3         4         5\n",
       "0  1.919488  2.221916  1.144869  2.817228  2.165444  0.715522\n",
       "1  1.915630  2.501573  1.855518  4.212452  3.385817  2.135223\n",
       "2  3.223145  0.176292  1.709782  4.248653  1.564119  1.978999\n",
       "3  1.240065  1.364500  1.901089  2.808380  3.676639  3.987650\n",
       "4  2.207844  3.078799  0.608621  1.958524  4.745845  3.634497"
      ]
     },
     "execution_count": 15,
     "metadata": {},
     "output_type": "execute_result"
    }
   ],
   "source": [
    "# We can incorporate operate with basic scalar values\n",
    "\n",
    "df + 2.5"
   ]
  },
  {
   "cell_type": "code",
   "execution_count": 16,
   "metadata": {
    "collapsed": false
   },
   "outputs": [
    {
     "data": {
      "text/html": [
       "<div>\n",
       "<table border=\"1\" class=\"dataframe\">\n",
       "  <thead>\n",
       "    <tr style=\"text-align: right;\">\n",
       "      <th></th>\n",
       "      <th>0</th>\n",
       "      <th>1</th>\n",
       "      <th>2</th>\n",
       "      <th>3</th>\n",
       "      <th>4</th>\n",
       "      <th>5</th>\n",
       "    </tr>\n",
       "  </thead>\n",
       "  <tbody>\n",
       "    <tr>\n",
       "      <th>0</th>\n",
       "      <td>4.080512</td>\n",
       "      <td>3.778084</td>\n",
       "      <td>4.855131</td>\n",
       "      <td>3.182772</td>\n",
       "      <td>3.834556</td>\n",
       "      <td>5.284478</td>\n",
       "    </tr>\n",
       "    <tr>\n",
       "      <th>1</th>\n",
       "      <td>4.084370</td>\n",
       "      <td>3.498427</td>\n",
       "      <td>4.144482</td>\n",
       "      <td>1.787548</td>\n",
       "      <td>2.614183</td>\n",
       "      <td>3.864777</td>\n",
       "    </tr>\n",
       "    <tr>\n",
       "      <th>2</th>\n",
       "      <td>2.776855</td>\n",
       "      <td>5.823708</td>\n",
       "      <td>4.290218</td>\n",
       "      <td>1.751347</td>\n",
       "      <td>4.435881</td>\n",
       "      <td>4.021001</td>\n",
       "    </tr>\n",
       "    <tr>\n",
       "      <th>3</th>\n",
       "      <td>4.759935</td>\n",
       "      <td>4.635500</td>\n",
       "      <td>4.098911</td>\n",
       "      <td>3.191620</td>\n",
       "      <td>2.323361</td>\n",
       "      <td>2.012350</td>\n",
       "    </tr>\n",
       "    <tr>\n",
       "      <th>4</th>\n",
       "      <td>3.792156</td>\n",
       "      <td>2.921201</td>\n",
       "      <td>5.391379</td>\n",
       "      <td>4.041476</td>\n",
       "      <td>1.254155</td>\n",
       "      <td>2.365503</td>\n",
       "    </tr>\n",
       "  </tbody>\n",
       "</table>\n",
       "</div>"
      ],
      "text/plain": [
       "          0         1         2         3         4         5\n",
       "0  4.080512  3.778084  4.855131  3.182772  3.834556  5.284478\n",
       "1  4.084370  3.498427  4.144482  1.787548  2.614183  3.864777\n",
       "2  2.776855  5.823708  4.290218  1.751347  4.435881  4.021001\n",
       "3  4.759935  4.635500  4.098911  3.191620  2.323361  2.012350\n",
       "4  3.792156  2.921201  5.391379  4.041476  1.254155  2.365503"
      ]
     },
     "execution_count": 16,
     "metadata": {},
     "output_type": "execute_result"
    }
   ],
   "source": [
    "# And perform more complex scalar operations\n",
    "\n",
    "-1.0 * df + 3.5"
   ]
  },
  {
   "cell_type": "code",
   "execution_count": 17,
   "metadata": {
    "collapsed": false
   },
   "outputs": [
    {
     "data": {
      "text/html": [
       "<div>\n",
       "<table border=\"1\" class=\"dataframe\">\n",
       "  <thead>\n",
       "    <tr style=\"text-align: right;\">\n",
       "      <th></th>\n",
       "      <th>0</th>\n",
       "      <th>1</th>\n",
       "      <th>2</th>\n",
       "      <th>3</th>\n",
       "      <th>4</th>\n",
       "      <th>5</th>\n",
       "    </tr>\n",
       "  </thead>\n",
       "  <tbody>\n",
       "    <tr>\n",
       "      <th>0</th>\n",
       "      <td>-0.548452</td>\n",
       "      <td>-0.274514</td>\n",
       "      <td>-0.976834</td>\n",
       "      <td>0.311934</td>\n",
       "      <td>-0.328349</td>\n",
       "      <td>-0.977257</td>\n",
       "    </tr>\n",
       "    <tr>\n",
       "      <th>1</th>\n",
       "      <td>-0.551674</td>\n",
       "      <td>0.001573</td>\n",
       "      <td>-0.600784</td>\n",
       "      <td>0.989984</td>\n",
       "      <td>0.774432</td>\n",
       "      <td>-0.356741</td>\n",
       "    </tr>\n",
       "    <tr>\n",
       "      <th>2</th>\n",
       "      <td>0.661746</td>\n",
       "      <td>-0.729701</td>\n",
       "      <td>-0.710507</td>\n",
       "      <td>0.984225</td>\n",
       "      <td>-0.805122</td>\n",
       "      <td>-0.497748</td>\n",
       "    </tr>\n",
       "    <tr>\n",
       "      <th>3</th>\n",
       "      <td>-0.952070</td>\n",
       "      <td>-0.906745</td>\n",
       "      <td>-0.563744</td>\n",
       "      <td>0.303515</td>\n",
       "      <td>0.923321</td>\n",
       "      <td>0.996545</td>\n",
       "    </tr>\n",
       "    <tr>\n",
       "      <th>4</th>\n",
       "      <td>-0.288017</td>\n",
       "      <td>0.547019</td>\n",
       "      <td>-0.949052</td>\n",
       "      <td>-0.515402</td>\n",
       "      <td>0.780677</td>\n",
       "      <td>0.906322</td>\n",
       "    </tr>\n",
       "  </tbody>\n",
       "</table>\n",
       "</div>"
      ],
      "text/plain": [
       "          0         1         2         3         4         5\n",
       "0 -0.548452 -0.274514 -0.976834  0.311934 -0.328349 -0.977257\n",
       "1 -0.551674  0.001573 -0.600784  0.989984  0.774432 -0.356741\n",
       "2  0.661746 -0.729701 -0.710507  0.984225 -0.805122 -0.497748\n",
       "3 -0.952070 -0.906745 -0.563744  0.303515  0.923321  0.996545\n",
       "4 -0.288017  0.547019 -0.949052 -0.515402  0.780677  0.906322"
      ]
     },
     "execution_count": 17,
     "metadata": {},
     "output_type": "execute_result"
    }
   ],
   "source": [
    "# We can also apply vectorized functions\n",
    "\n",
    "np.sin(df)"
   ]
  },
  {
   "cell_type": "code",
   "execution_count": 18,
   "metadata": {
    "collapsed": false
   },
   "outputs": [
    {
     "data": {
      "text/html": [
       "<div>\n",
       "<table border=\"1\" class=\"dataframe\">\n",
       "  <thead>\n",
       "    <tr style=\"text-align: right;\">\n",
       "      <th></th>\n",
       "      <th>0</th>\n",
       "      <th>1</th>\n",
       "      <th>2</th>\n",
       "      <th>3</th>\n",
       "      <th>4</th>\n",
       "    </tr>\n",
       "  </thead>\n",
       "  <tbody>\n",
       "    <tr>\n",
       "      <th>0</th>\n",
       "      <td>-0.580512</td>\n",
       "      <td>-0.584370</td>\n",
       "      <td>0.723145</td>\n",
       "      <td>-1.259935</td>\n",
       "      <td>-0.292156</td>\n",
       "    </tr>\n",
       "    <tr>\n",
       "      <th>1</th>\n",
       "      <td>-0.278084</td>\n",
       "      <td>0.001573</td>\n",
       "      <td>-2.323708</td>\n",
       "      <td>-1.135500</td>\n",
       "      <td>0.578799</td>\n",
       "    </tr>\n",
       "    <tr>\n",
       "      <th>2</th>\n",
       "      <td>-1.355131</td>\n",
       "      <td>-0.644482</td>\n",
       "      <td>-0.790218</td>\n",
       "      <td>-0.598911</td>\n",
       "      <td>-1.891379</td>\n",
       "    </tr>\n",
       "    <tr>\n",
       "      <th>3</th>\n",
       "      <td>0.317228</td>\n",
       "      <td>1.712452</td>\n",
       "      <td>1.748653</td>\n",
       "      <td>0.308380</td>\n",
       "      <td>-0.541476</td>\n",
       "    </tr>\n",
       "    <tr>\n",
       "      <th>4</th>\n",
       "      <td>-0.334556</td>\n",
       "      <td>0.885817</td>\n",
       "      <td>-0.935881</td>\n",
       "      <td>1.176639</td>\n",
       "      <td>2.245845</td>\n",
       "    </tr>\n",
       "    <tr>\n",
       "      <th>5</th>\n",
       "      <td>-1.784478</td>\n",
       "      <td>-0.364777</td>\n",
       "      <td>-0.521001</td>\n",
       "      <td>1.487650</td>\n",
       "      <td>1.134497</td>\n",
       "    </tr>\n",
       "  </tbody>\n",
       "</table>\n",
       "</div>"
      ],
      "text/plain": [
       "          0         1         2         3         4\n",
       "0 -0.580512 -0.584370  0.723145 -1.259935 -0.292156\n",
       "1 -0.278084  0.001573 -2.323708 -1.135500  0.578799\n",
       "2 -1.355131 -0.644482 -0.790218 -0.598911 -1.891379\n",
       "3  0.317228  1.712452  1.748653  0.308380 -0.541476\n",
       "4 -0.334556  0.885817 -0.935881  1.176639  2.245845\n",
       "5 -1.784478 -0.364777 -0.521001  1.487650  1.134497"
      ]
     },
     "execution_count": 18,
     "metadata": {},
     "output_type": "execute_result"
    }
   ],
   "source": [
    "# We can tranpose the dataframe\n",
    "\n",
    "df.T"
   ]
  },
  {
   "cell_type": "markdown",
   "metadata": {},
   "source": [
    "-----\n",
    "\n",
    "The above description merely scratches the surface of what you can do\n",
    "with a Pandas `Series` or a `DataFrame`. The best way to learn how to\n",
    "effectively use these data structures is to just do it!\n",
    "\n",
    "-----"
   ]
  },
  {
   "cell_type": "markdown",
   "metadata": {},
   "source": [
    "### Additional References\n",
    "\n",
    "1. [Pandas Documentation][pdd]\n",
    "2. A slightly dated Pandas [tutorial][pdt]\n",
    "-----\n",
    "\n",
    "[pdd]: http://pandas.pydata.org/pandas-docs/stable/index.html\n",
    "[pdt]: http://www.gregreda.com/2013/10/26/intro-to-pandas-data-structures/"
   ]
  }
 ],
 "metadata": {
  "kernelspec": {
   "display_name": "Python 3",
   "language": "python",
   "name": "python3"
  },
  "language_info": {
   "codemirror_mode": {
    "name": "ipython",
    "version": 3
   },
   "file_extension": ".py",
   "mimetype": "text/x-python",
   "name": "python",
   "nbconvert_exporter": "python",
   "pygments_lexer": "ipython3",
   "version": "3.5.2"
  }
 },
 "nbformat": 4,
 "nbformat_minor": 0
}
